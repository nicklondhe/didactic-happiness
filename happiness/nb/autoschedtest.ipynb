{
 "cells": [
  {
   "cell_type": "code",
   "execution_count": 14,
   "id": "18c6631e-0989-41da-bf23-676ae1a4985e",
   "metadata": {},
   "outputs": [
    {
     "name": "stderr",
     "output_type": "stream",
     "text": [
      "\u001b[32m2024-12-20 13:17:08.868\u001b[0m | \u001b[1mINFO    \u001b[0m | \u001b[36m__main__\u001b[0m:\u001b[36m<module>\u001b[0m:\u001b[36m52\u001b[0m - \u001b[1mTask id 23 and frequency 1\u001b[0m\n",
      "\u001b[32m2024-12-20 13:17:08.870\u001b[0m | \u001b[1mINFO    \u001b[0m | \u001b[36m__main__\u001b[0m:\u001b[36minsert_test_data\u001b[0m:\u001b[36m26\u001b[0m - \u001b[1mStart date: 2024-12-01 00:00:00\u001b[0m\n",
      "\u001b[32m2024-12-20 13:17:08.870\u001b[0m | \u001b[1mINFO    \u001b[0m | \u001b[36m__main__\u001b[0m:\u001b[36minsert_test_data\u001b[0m:\u001b[36m40\u001b[0m - \u001b[1m2024-12-01 09:00:00 :: 2024-12-01 10:52:03.352826\u001b[0m\n",
      "\u001b[32m2024-12-20 13:17:08.871\u001b[0m | \u001b[1mINFO    \u001b[0m | \u001b[36m__main__\u001b[0m:\u001b[36minsert_test_data\u001b[0m:\u001b[36m40\u001b[0m - \u001b[1m2024-12-04 04:00:00 :: 2024-12-04 05:45:26.318466\u001b[0m\n",
      "\u001b[32m2024-12-20 13:17:08.872\u001b[0m | \u001b[1mINFO    \u001b[0m | \u001b[36m__main__\u001b[0m:\u001b[36minsert_test_data\u001b[0m:\u001b[36m40\u001b[0m - \u001b[1m2024-12-06 18:00:00 :: 2024-12-06 19:28:20.322446\u001b[0m\n",
      "\u001b[32m2024-12-20 13:17:08.873\u001b[0m | \u001b[1mINFO    \u001b[0m | \u001b[36m__main__\u001b[0m:\u001b[36minsert_test_data\u001b[0m:\u001b[36m40\u001b[0m - \u001b[1m2024-12-09 00:00:00 :: 2024-12-09 01:09:58.503514\u001b[0m\n",
      "\u001b[32m2024-12-20 13:17:08.874\u001b[0m | \u001b[1mINFO    \u001b[0m | \u001b[36m__main__\u001b[0m:\u001b[36minsert_test_data\u001b[0m:\u001b[36m40\u001b[0m - \u001b[1m2024-12-11 04:00:00 :: 2024-12-11 05:43:53.734742\u001b[0m\n",
      "\u001b[32m2024-12-20 13:17:08.874\u001b[0m | \u001b[1mINFO    \u001b[0m | \u001b[36m__main__\u001b[0m:\u001b[36minsert_test_data\u001b[0m:\u001b[36m40\u001b[0m - \u001b[1m2024-12-13 04:00:00 :: 2024-12-13 05:46:33.112522\u001b[0m\n",
      "\u001b[32m2024-12-20 13:17:08.875\u001b[0m | \u001b[1mINFO    \u001b[0m | \u001b[36m__main__\u001b[0m:\u001b[36minsert_test_data\u001b[0m:\u001b[36m40\u001b[0m - \u001b[1m2024-12-14 21:00:00 :: 2024-12-14 22:15:37.690426\u001b[0m\n",
      "\u001b[32m2024-12-20 13:17:08.876\u001b[0m | \u001b[1mINFO    \u001b[0m | \u001b[36m__main__\u001b[0m:\u001b[36minsert_test_data\u001b[0m:\u001b[36m40\u001b[0m - \u001b[1m2024-12-16 14:00:00 :: 2024-12-16 15:24:41.364008\u001b[0m\n",
      "\u001b[32m2024-12-20 13:17:08.876\u001b[0m | \u001b[1mINFO    \u001b[0m | \u001b[36m__main__\u001b[0m:\u001b[36minsert_test_data\u001b[0m:\u001b[36m40\u001b[0m - \u001b[1m2024-12-18 19:00:00 :: 2024-12-18 20:37:42.325283\u001b[0m\n",
      "\u001b[32m2024-12-20 13:17:08.881\u001b[0m | \u001b[1mINFO    \u001b[0m | \u001b[36m__main__\u001b[0m:\u001b[36minsert_into_db\u001b[0m:\u001b[36m22\u001b[0m - \u001b[1mInserted 9 rows\u001b[0m\n",
      "\u001b[32m2024-12-20 13:17:08.882\u001b[0m | \u001b[1mINFO    \u001b[0m | \u001b[36m__main__\u001b[0m:\u001b[36m<module>\u001b[0m:\u001b[36m52\u001b[0m - \u001b[1mTask id 24 and frequency 3\u001b[0m\n",
      "\u001b[32m2024-12-20 13:17:08.882\u001b[0m | \u001b[1mINFO    \u001b[0m | \u001b[36m__main__\u001b[0m:\u001b[36minsert_test_data\u001b[0m:\u001b[36m26\u001b[0m - \u001b[1mStart date: 2024-12-01 00:00:00\u001b[0m\n",
      "\u001b[32m2024-12-20 13:17:08.883\u001b[0m | \u001b[1mINFO    \u001b[0m | \u001b[36m__main__\u001b[0m:\u001b[36minsert_test_data\u001b[0m:\u001b[36m40\u001b[0m - \u001b[1m2024-12-01 11:00:00 :: 2024-12-01 12:09:37.518945\u001b[0m\n",
      "\u001b[32m2024-12-20 13:17:08.884\u001b[0m | \u001b[1mINFO    \u001b[0m | \u001b[36m__main__\u001b[0m:\u001b[36minsert_test_data\u001b[0m:\u001b[36m40\u001b[0m - \u001b[1m2024-12-05 18:00:00 :: 2024-12-05 19:03:29.532966\u001b[0m\n",
      "\u001b[32m2024-12-20 13:17:08.885\u001b[0m | \u001b[1mINFO    \u001b[0m | \u001b[36m__main__\u001b[0m:\u001b[36minsert_test_data\u001b[0m:\u001b[36m40\u001b[0m - \u001b[1m2024-12-11 03:00:00 :: 2024-12-11 04:10:03.724336\u001b[0m\n",
      "\u001b[32m2024-12-20 13:17:08.885\u001b[0m | \u001b[1mINFO    \u001b[0m | \u001b[36m__main__\u001b[0m:\u001b[36minsert_test_data\u001b[0m:\u001b[36m40\u001b[0m - \u001b[1m2024-12-15 18:00:00 :: 2024-12-15 19:11:56.053178\u001b[0m\n",
      "\u001b[32m2024-12-20 13:17:08.886\u001b[0m | \u001b[1mINFO    \u001b[0m | \u001b[36m__main__\u001b[0m:\u001b[36minsert_test_data\u001b[0m:\u001b[36m40\u001b[0m - \u001b[1m2024-12-19 18:00:00 :: 2024-12-19 19:43:45.943738\u001b[0m\n",
      "\u001b[32m2024-12-20 13:17:08.889\u001b[0m | \u001b[1mINFO    \u001b[0m | \u001b[36m__main__\u001b[0m:\u001b[36minsert_into_db\u001b[0m:\u001b[36m22\u001b[0m - \u001b[1mInserted 5 rows\u001b[0m\n",
      "\u001b[32m2024-12-20 13:17:08.890\u001b[0m | \u001b[1mINFO    \u001b[0m | \u001b[36m__main__\u001b[0m:\u001b[36m<module>\u001b[0m:\u001b[36m52\u001b[0m - \u001b[1mTask id 25 and frequency 5\u001b[0m\n",
      "\u001b[32m2024-12-20 13:17:08.891\u001b[0m | \u001b[1mINFO    \u001b[0m | \u001b[36m__main__\u001b[0m:\u001b[36minsert_test_data\u001b[0m:\u001b[36m26\u001b[0m - \u001b[1mStart date: 2024-12-01 00:00:00\u001b[0m\n",
      "\u001b[32m2024-12-20 13:17:08.892\u001b[0m | \u001b[1mINFO    \u001b[0m | \u001b[36m__main__\u001b[0m:\u001b[36minsert_test_data\u001b[0m:\u001b[36m40\u001b[0m - \u001b[1m2024-12-01 19:00:00 :: 2024-12-01 20:35:35.527713\u001b[0m\n",
      "\u001b[32m2024-12-20 13:17:08.892\u001b[0m | \u001b[1mINFO    \u001b[0m | \u001b[36m__main__\u001b[0m:\u001b[36minsert_test_data\u001b[0m:\u001b[36m40\u001b[0m - \u001b[1m2024-12-08 09:00:00 :: 2024-12-08 10:50:30.142334\u001b[0m\n",
      "\u001b[32m2024-12-20 13:17:08.893\u001b[0m | \u001b[1mINFO    \u001b[0m | \u001b[36m__main__\u001b[0m:\u001b[36minsert_test_data\u001b[0m:\u001b[36m40\u001b[0m - \u001b[1m2024-12-15 09:00:00 :: 2024-12-15 10:00:26.140918\u001b[0m\n",
      "\u001b[32m2024-12-20 13:17:08.895\u001b[0m | \u001b[1mINFO    \u001b[0m | \u001b[36m__main__\u001b[0m:\u001b[36minsert_into_db\u001b[0m:\u001b[36m22\u001b[0m - \u001b[1mInserted 3 rows\u001b[0m\n",
      "\u001b[32m2024-12-20 13:17:08.896\u001b[0m | \u001b[1mINFO    \u001b[0m | \u001b[36m__main__\u001b[0m:\u001b[36m<module>\u001b[0m:\u001b[36m52\u001b[0m - \u001b[1mTask id 26 and frequency 9\u001b[0m\n",
      "\u001b[32m2024-12-20 13:17:08.897\u001b[0m | \u001b[1mINFO    \u001b[0m | \u001b[36m__main__\u001b[0m:\u001b[36minsert_test_data\u001b[0m:\u001b[36m26\u001b[0m - \u001b[1mStart date: 2024-12-01 00:00:00\u001b[0m\n",
      "\u001b[32m2024-12-20 13:17:08.897\u001b[0m | \u001b[1mINFO    \u001b[0m | \u001b[36m__main__\u001b[0m:\u001b[36minsert_test_data\u001b[0m:\u001b[36m40\u001b[0m - \u001b[1m2024-12-01 21:00:00 :: 2024-12-01 22:20:47.682408\u001b[0m\n",
      "\u001b[32m2024-12-20 13:17:08.898\u001b[0m | \u001b[1mINFO    \u001b[0m | \u001b[36m__main__\u001b[0m:\u001b[36minsert_test_data\u001b[0m:\u001b[36m40\u001b[0m - \u001b[1m2024-12-12 08:00:00 :: 2024-12-12 09:39:20.555760\u001b[0m\n",
      "\u001b[32m2024-12-20 13:17:08.900\u001b[0m | \u001b[1mINFO    \u001b[0m | \u001b[36m__main__\u001b[0m:\u001b[36minsert_into_db\u001b[0m:\u001b[36m22\u001b[0m - \u001b[1mInserted 2 rows\u001b[0m\n"
     ]
    },
    {
     "ename": "AttributeError",
     "evalue": "'Engine' object has no attribute 'close'",
     "output_type": "error",
     "traceback": [
      "\u001b[0;31m---------------------------------------------------------------------------\u001b[0m",
      "\u001b[0;31mAttributeError\u001b[0m                            Traceback (most recent call last)",
      "Cell \u001b[0;32mIn[14], line 55\u001b[0m\n\u001b[1;32m     52\u001b[0m     logger\u001b[38;5;241m.\u001b[39minfo(\u001b[38;5;124mf\u001b[39m\u001b[38;5;124m'\u001b[39m\u001b[38;5;124mTask id \u001b[39m\u001b[38;5;132;01m{\u001b[39;00mrow[\u001b[38;5;241m0\u001b[39m]\u001b[38;5;132;01m}\u001b[39;00m\u001b[38;5;124m and frequency \u001b[39m\u001b[38;5;132;01m{\u001b[39;00mrow[\u001b[38;5;241m1\u001b[39m]\u001b[38;5;132;01m}\u001b[39;00m\u001b[38;5;124m'\u001b[39m)\n\u001b[1;32m     53\u001b[0m     insert_test_data(row[\u001b[38;5;241m0\u001b[39m], row[\u001b[38;5;241m1\u001b[39m], conn)\n\u001b[0;32m---> 55\u001b[0m \u001b[43mconn\u001b[49m\u001b[38;5;241;43m.\u001b[39;49m\u001b[43mclose\u001b[49m()\n",
      "\u001b[0;31mAttributeError\u001b[0m: 'Engine' object has no attribute 'close'"
     ]
    }
   ],
   "source": [
    "'''\n",
    "   Notebook to test auto schedule code - needs to be in pytest\n",
    "'''\n",
    "from loguru import logger\n",
    "from sqlalchemy.sql import text\n",
    "from typing import List\n",
    "import datetime\n",
    "import random\n",
    "import sqlalchemy\n",
    "\n",
    "\n",
    "def get_connection():\n",
    "    return sqlalchemy.create_engine('sqlite:////Users/nikhillondhe/projects/didactic-happiness/instance/test.db')\n",
    "    \n",
    "def insert_into_db(conn, data: List):\n",
    "    stmt = text(\"\"\"INSERT INTO TASK_SUMMARY(task_id, time_worked, num_restarts, start_date, end_date, rating, has_ended) VALUES(:task_id, :time_worked, 0, :start_date, :end_date, 5, 1)\"\"\") \n",
    "    \n",
    "    with conn.connect() as c:\n",
    "        for line in data:\n",
    "            c.execute(stmt, line)\n",
    "        c.commit()\n",
    "    logger.info(f'Inserted {len(data)} rows')\n",
    "\n",
    "def insert_test_data(task_id: int, freq_days: int, conn):\n",
    "    start_date = datetime.datetime(2024, 12, 1)\n",
    "    logger.info(f'Start date: {start_date}')\n",
    "    data = []\n",
    "\n",
    "    ''' \n",
    "\ttask_id INTEGER, \n",
    "\ttime_worked INTEGER NOT NULL, \n",
    "\tnum_restarts INTEGER NOT NULL, \n",
    "\tstart_date DATETIME NOT NULL, \n",
    "\tend_date DATETIME, \n",
    "\trating INTEGER NOT NULL, has_ended BOOLEAN\n",
    "    '''\n",
    "    while start_date <= datetime.datetime.now():\n",
    "        start = start_date + datetime.timedelta(hours=random.randint(0, 23))\n",
    "        end = start + datetime.timedelta(hours=1+random.random())\n",
    "        logger.info(f'{start} :: {end}')\n",
    "        data.append({\n",
    "            'task_id': task_id, 'time_worked': int((end - start).total_seconds()),\n",
    "            'start_date': start, 'end_date': end\n",
    "        })\n",
    "        start_date = start + datetime.timedelta(days=freq_days, hours=random.randint(12, 36))\n",
    "    insert_into_db(conn, data)\n",
    "\n",
    "conn = get_connection()\n",
    "data = [(23, 1), (24, 3), (25, 5), (26, 9)]\n",
    "\n",
    "for row in data:\n",
    "    logger.info(f'Task id {row[0]} and frequency {row[1]}')\n",
    "    insert_test_data(row[0], row[1], conn)"
   ]
  },
  {
   "cell_type": "code",
   "execution_count": null,
   "id": "d0fca6dd-672c-466d-a0c9-fe8ab65024a1",
   "metadata": {},
   "outputs": [],
   "source": []
  }
 ],
 "metadata": {
  "kernelspec": {
   "display_name": "Python 3 (ipykernel)",
   "language": "python",
   "name": "python3"
  },
  "language_info": {
   "codemirror_mode": {
    "name": "ipython",
    "version": 3
   },
   "file_extension": ".py",
   "mimetype": "text/x-python",
   "name": "python",
   "nbconvert_exporter": "python",
   "pygments_lexer": "ipython3",
   "version": "3.12.7"
  }
 },
 "nbformat": 4,
 "nbformat_minor": 5
}
