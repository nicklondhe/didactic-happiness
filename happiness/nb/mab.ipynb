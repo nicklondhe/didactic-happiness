{
 "cells": [
  {
   "cell_type": "code",
   "execution_count": 1,
   "id": "e61b40f2-01bd-4e39-bd69-60696f2cb4ad",
   "metadata": {},
   "outputs": [
    {
     "data": {
      "text/plain": [
       "'\\n   Trying MAB\\n'"
      ]
     },
     "execution_count": 1,
     "metadata": {},
     "output_type": "execute_result"
    }
   ],
   "source": [
    "'''\n",
    "   Trying MAB\n",
    "'''"
   ]
  },
  {
   "cell_type": "code",
   "execution_count": 5,
   "id": "de64df64-1748-4362-870b-740bdbdd9b74",
   "metadata": {},
   "outputs": [],
   "source": [
    "# lets get the data first\n",
    "import numpy as np\n",
    "import pandas as pd\n",
    "import sqlalchemy\n",
    "\n",
    "def get_connection():\n",
    "    engine = sqlalchemy.create_engine('sqlite:////Users/nikhillondhe/projects/didactic-happiness/instance/tasks.db')\n",
    "    return engine\n",
    "    \n",
    "def load_data():\n",
    "    ''' Load data from sqlite db '''\n",
    "    query = '''\n",
    "         SELECT T.*, CAST(strftime('%H', R.rec_ts) as Integer) as rec_ts,\n",
    "         CASE\n",
    "             WHEN \n",
    "                 W.id IS NOT NULL \n",
    "                 AND cast((julianday(end_ts) - julianday(start_ts)) * 24 * 60 * 60 as Integer) > 60\n",
    "             THEN 1\n",
    "             ELSE 0\n",
    "         END AS was_picked\n",
    "         FROM task T\n",
    "         INNER JOIN recommendation R\n",
    "         ON T.id = R.task_id\n",
    "         LEFT JOIN\n",
    "         work_log W\n",
    "         ON R.id = W.rec_id\n",
    "    '''\n",
    "    engine = get_connection()\n",
    "    df = pd.read_sql(query, engine)\n",
    "    engine.dispose()\n",
    "    return df"
   ]
  },
  {
   "cell_type": "code",
   "execution_count": 6,
   "id": "91615f10-4b84-4df9-84fe-dbbcfc5d4045",
   "metadata": {},
   "outputs": [],
   "source": [
    "col = 'priority'\n",
    "rewards = {'low': 1, 'medium': 3, 'high': 7}\n",
    "reward_col = 'was_picked'\n",
    "\n",
    "df = load_data()"
   ]
  },
  {
   "cell_type": "code",
   "execution_count": 7,
   "id": "d931e63e-7ade-4167-b315-f48d0ef20b30",
   "metadata": {},
   "outputs": [
    {
     "data": {
      "text/plain": [
       "{'medium': np.float64(0.09221311475409828),\n",
       " 'low': np.float64(0.08333333333333334),\n",
       " 'high': np.float64(0.5752688172043007)}"
      ]
     },
     "execution_count": 7,
     "metadata": {},
     "output_type": "execute_result"
    }
   ],
   "source": [
    "def compute_qvalues(df: pd.DataFrame, col: str, rewards: dict, reward_col: str) -> dict:\n",
    "    values = df[col].unique()\n",
    "    k = len(values)\n",
    "    arm_to_idx = {v: k for k,v in enumerate(values)}\n",
    "    Qvalues = np.zeros(k)\n",
    "    counts = np.zeros(k)\n",
    "\n",
    "    for idx, row in df.iterrows():\n",
    "        arm_name = row[col]\n",
    "        reward = rewards[arm_name] * row[reward_col]\n",
    "        arm_idx = arm_to_idx[arm_name]\n",
    "        counts[arm_idx] += 1\n",
    "        Qvalues[arm_idx] += (reward - Qvalues[arm_idx]) / counts[arm_idx]\n",
    "\n",
    "    \n",
    "    return {k : Qvalues[v] for k, v in arm_to_idx.items()}\n",
    "\n",
    "q_values = compute_qvalues(df, col, rewards, reward_col)\n",
    "q_values"
   ]
  },
  {
   "cell_type": "code",
   "execution_count": 8,
   "id": "02809650-e984-47bb-aec0-9aa6373501ff",
   "metadata": {},
   "outputs": [
    {
     "data": {
      "text/plain": [
       "{'medium': [91.0, 631.6666666666657],\n",
       " 'low': [79.0, 2289.0000000000095],\n",
       " 'high': [750.0, 1]}"
      ]
     },
     "execution_count": 8,
     "metadata": {},
     "output_type": "execute_result"
    }
   ],
   "source": [
    "# trying to do thomson sampling for alpha, beta comps\n",
    "\n",
    "def compute_alpha_beta(df: pd.DataFrame, col: str, rewards: dict, reward_col: str) -> dict:\n",
    "    #alpha += reward, beta += (exp reward - reward) but min(beta) = 1\n",
    "    values = df[col].unique()\n",
    "    distributions = {val : [1.0, 1.0] for val in values}\n",
    "    exp_reward = sum(rewards.values()) * 1.0 / len(rewards)\n",
    "    for _, row in df.iterrows():\n",
    "        arm_name = row[col]\n",
    "        distribution = distributions[arm_name]\n",
    "        rewarded = row[reward_col]\n",
    "        reward_value = rewards[arm_name]\n",
    "        \n",
    "        if rewarded:\n",
    "            distribution[0] += reward_value\n",
    "        else:\n",
    "            distribution[1] += (exp_reward - reward_value)\n",
    "            if distribution[1] < 1:\n",
    "                distribution[1] = 1\n",
    "\n",
    "    return distributions\n",
    "\n",
    "alpha_beta = compute_alpha_beta(df, col, rewards, reward_col)\n",
    "alpha_beta"
   ]
  },
  {
   "cell_type": "code",
   "execution_count": 24,
   "id": "b5bafcca-fc71-4aac-8897-4f5788194904",
   "metadata": {},
   "outputs": [
    {
     "data": {
      "text/plain": [
       "{'low': np.float64(0.17621727632512502),\n",
       " 'medium': np.float64(0.18317378646135832),\n",
       " 'high': np.float64(0.6540228995664729)}"
      ]
     },
     "execution_count": 24,
     "metadata": {},
     "output_type": "execute_result"
    }
   ],
   "source": [
    "def compute_ucb_values(df: pd.DataFrame, col: str, rewards: dict, reward_col: str) -> dict:\n",
    "    '''Compute ucb values from historical data'''\n",
    "    # avg reward + c * sqrt(ln(t) / num choiced)\n",
    "    lnt = np.log(len(df))\n",
    "    data = df.groupby([col, reward_col]).size().unstack()\n",
    "    ucb = {}\n",
    "    \n",
    "    for k, v in rewards.items():\n",
    "        n = data.loc[k].sum()\n",
    "        reward = data.loc[k, 1] * v * 1.0\n",
    "        avg_reward = reward / n\n",
    "        ucb[k] = avg_reward + np.sqrt(lnt / n)\n",
    "    return ucb\n",
    "\n",
    "ucb = compute_ucb_values(df, col, rewards, reward_col)\n",
    "ucb"
   ]
  },
  {
   "cell_type": "code",
   "execution_count": 15,
   "id": "cc26748b-e4d8-4b9b-8890-a8cd429f0d3a",
   "metadata": {},
   "outputs": [
    {
     "name": "stdout",
     "output_type": "stream",
     "text": [
      "complexity: {'mean': np.float64(0.07126998999999999), 'std_dev': np.float64(0.05327432377543676), 'cv': np.float64(0.7475000877008229), 'entropy': np.float64(nan), 'gini': np.float64(0.3993054829638362), 'top_2_concentration': np.float64(1.0)}\n",
      "priority: {'mean': np.float64(0.24652050333333334), 'std_dev': np.float64(0.2301377998553537), 'cv': np.float64(0.9335442559281663), 'entropy': np.float64(0.6921823464455177), 'gini': np.float64(0.44023259133645287), 'top_2_concentration': np.float64(0.8869386536895356)}\n",
      "type: {'mean': np.float64(0.34875784499999996), 'std_dev': np.float64(0.23606165298820578), 'cv': np.float64(0.6768640659200248), 'entropy': np.float64(1.1688721800791742), 'gini': np.float64(0.35731412364358434), 'top_2_concentration': np.float64(0.7837896807740627)}\n"
     ]
    },
    {
     "name": "stderr",
     "output_type": "stream",
     "text": [
      "/var/folders/63/vdsl0bvd413ff898d5q2jwb80000gq/T/ipykernel_45890/1635742412.py:5: RuntimeWarning: divide by zero encountered in log\n",
      "  entropy = -np.sum((q_values / np.sum(q_values)) * np.log(q_values / np.sum(q_values)))\n",
      "/var/folders/63/vdsl0bvd413ff898d5q2jwb80000gq/T/ipykernel_45890/1635742412.py:5: RuntimeWarning: invalid value encountered in multiply\n",
      "  entropy = -np.sum((q_values / np.sum(q_values)) * np.log(q_values / np.sum(q_values)))\n"
     ]
    }
   ],
   "source": [
    "def compute_metrics(q_values):\n",
    "    mean = np.mean(q_values)\n",
    "    std_dev = np.std(q_values)\n",
    "    cv = std_dev / mean if mean > 0 else 0\n",
    "    entropy = -np.sum((q_values / np.sum(q_values)) * np.log(q_values / np.sum(q_values)))\n",
    "    gini = np.sum(np.abs(np.subtract.outer(q_values, q_values))) / (2 * len(q_values) * np.sum(q_values))\n",
    "    top_k_concentration = np.sum(sorted(q_values, reverse=True)[:2]) / np.sum(q_values)  # Top-2 concentration\n",
    "\n",
    "    return {\n",
    "        \"mean\": mean,\n",
    "        \"std_dev\": std_dev,\n",
    "        \"cv\": cv,\n",
    "        \"entropy\": entropy,\n",
    "        \"gini\": gini,\n",
    "        \"top_2_concentration\": top_k_concentration,\n",
    "    }\n",
    "\n",
    "arm_types = {\n",
    "    'complexity': [0.12806324, 0.08574673, 0],\n",
    "    'priority': [0.08396125, 0.08361582, 0.57198444],\n",
    "    'type': [0.36653895, 0.12583893, 0.72687225, 0.17578125]\n",
    "}\n",
    "\n",
    "# Evaluate each arm type\n",
    "results = {arm_type: compute_metrics(q_values) for arm_type, q_values in arm_types.items()}\n",
    "\n",
    "# Display results\n",
    "for arm_type, metrics in results.items():\n",
    "    print(f\"{arm_type}: {metrics}\")\n"
   ]
  }
 ],
 "metadata": {
  "kernelspec": {
   "display_name": "Python 3 (ipykernel)",
   "language": "python",
   "name": "python3"
  },
  "language_info": {
   "codemirror_mode": {
    "name": "ipython",
    "version": 3
   },
   "file_extension": ".py",
   "mimetype": "text/x-python",
   "name": "python",
   "nbconvert_exporter": "python",
   "pygments_lexer": "ipython3",
   "version": "3.12.7"
  }
 },
 "nbformat": 4,
 "nbformat_minor": 5
}
